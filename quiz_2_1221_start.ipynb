{
 "cells": [
  {
   "cell_type": "code",
   "execution_count": 1,
   "metadata": {},
   "outputs": [],
   "source": [
    "#import thinkplot\n",
    "#import thinkstats2\n",
    "import pandas as pd\n",
    "import numpy as np\n",
    "import math\n",
    "import scipy.stats as ss\n",
    "import thinkplot\n",
    "import thinkstats2\n",
    "from sklearn.metrics import mean_squared_error\n",
    "from sklearn.linear_model import LinearRegression\n",
    "\n",
    "##Seaborn for fancy plots. \n",
    "import matplotlib.pyplot as plt\n",
    "import seaborn as sns\n",
    "plt.rcParams[\"figure.figsize\"] = (15,5)"
   ]
  },
  {
   "cell_type": "markdown",
   "metadata": {},
   "source": [
    "# Quiz 2 - Get Hyp'\n",
    "\n",
    "<ul>\n",
    "<li> Use this as a starting point for your work, but answer the questions on Moodle. \n",
    "<li> Publish this to your GitHub and submit the link in the question on Moodle. \n",
    "</ul>"
   ]
  },
  {
   "cell_type": "markdown",
   "metadata": {},
   "source": [
    "## Potentially Useful Information\n",
    "\n",
    "#### Data Dictionary\n",
    "<ul>\n",
    "<li>credit.policy: 1 if the customer meets the credit underwriting criteria of LendingClub.com, and 0 otherwise.\n",
    "<li>purpose: The purpose of the loan (takes values \"credit_card\", \"debt_consolidation\", \"educational\", \"major_purchase\", \"small_business\", and \"all_other\").\n",
    "<li>int.rate: The interest rate of the loan, as a proportion (a rate of 11% would be stored as 0.11). Borrowers judged by LendingClub.com to be more risky are assigned higher interest rates.\n",
    "<li>installment: The monthly installments owed by the borrower if the loan is funded.\n",
    "<li>log.annual.inc: The natural log of the self-reported annual income of the borrower.\n",
    "<li>dti: The debt-to-income ratio of the borrower (amount of debt divided by annual income).\n",
    "<li>fico: The FICO credit score of the borrower.\n",
    "<li>days.with.cr.line: The number of days the borrower has had a credit line.\n",
    "<li>revol.bal: The borrower's revolving balance (amount unpaid at the end of the credit card billing cycle).\n",
    "<li>revol.util: The borrower's revolving line utilization rate (the amount of the credit line used relative to total credit available).\n",
    "<li>inq.last.6mths: The borrower's number of inquiries by creditors in the last 6 months.\n",
    "<li>not.fully.paid: 1 if the borrower failed to repay their loan, 0 if they have not failed\n",
    "</ul>\n",
    "\n",
    "#### FICO Score Groups\n",
    "\n",
    "![FICO](fico_range.png \"FICO Ranges\")\n",
    "\n",
    "#### Note on ANOVA - Might be Useful, Might Not\n",
    "\n",
    "> @JeremyMiles is right. First, there's a rule of thumb that the ANOVA is robust to heterogeneity of variance so long as the largest variance is not more than 4 times the smallest variance. Furthermore, the general effect of heterogeneity of variance is to make the ANOVA less efficient. That is, you would have lower power. Since you have a significant effect anyway, there is less reason to be concerned here. \n",
    "- https://stats.stackexchange.com/questions/56971/alternative-to-one-way-anova-unequal-variance"
   ]
  },
  {
   "cell_type": "code",
   "execution_count": 2,
   "metadata": {},
   "outputs": [
    {
     "data": {
      "text/html": [
       "<div>\n",
       "<style scoped>\n",
       "    .dataframe tbody tr th:only-of-type {\n",
       "        vertical-align: middle;\n",
       "    }\n",
       "\n",
       "    .dataframe tbody tr th {\n",
       "        vertical-align: top;\n",
       "    }\n",
       "\n",
       "    .dataframe thead th {\n",
       "        text-align: right;\n",
       "    }\n",
       "</style>\n",
       "<table border=\"1\" class=\"dataframe\">\n",
       "  <thead>\n",
       "    <tr style=\"text-align: right;\">\n",
       "      <th></th>\n",
       "      <th>credit.policy</th>\n",
       "      <th>purpose</th>\n",
       "      <th>int.rate</th>\n",
       "      <th>installment</th>\n",
       "      <th>log.annual.inc</th>\n",
       "      <th>dti</th>\n",
       "      <th>fico</th>\n",
       "      <th>days.with.cr.line</th>\n",
       "      <th>revol.bal</th>\n",
       "      <th>revol.util</th>\n",
       "      <th>inq.last.6mths</th>\n",
       "      <th>not.fully.paid</th>\n",
       "    </tr>\n",
       "  </thead>\n",
       "  <tbody>\n",
       "    <tr>\n",
       "      <th>0</th>\n",
       "      <td>1</td>\n",
       "      <td>debt_consolidation</td>\n",
       "      <td>0.1189</td>\n",
       "      <td>829.10</td>\n",
       "      <td>11.350407</td>\n",
       "      <td>19.48</td>\n",
       "      <td>737</td>\n",
       "      <td>5639.958333</td>\n",
       "      <td>28854</td>\n",
       "      <td>52.1</td>\n",
       "      <td>0</td>\n",
       "      <td>0</td>\n",
       "    </tr>\n",
       "    <tr>\n",
       "      <th>1</th>\n",
       "      <td>1</td>\n",
       "      <td>credit_card</td>\n",
       "      <td>0.1071</td>\n",
       "      <td>228.22</td>\n",
       "      <td>11.082143</td>\n",
       "      <td>14.29</td>\n",
       "      <td>707</td>\n",
       "      <td>2760.000000</td>\n",
       "      <td>33623</td>\n",
       "      <td>76.7</td>\n",
       "      <td>0</td>\n",
       "      <td>0</td>\n",
       "    </tr>\n",
       "    <tr>\n",
       "      <th>2</th>\n",
       "      <td>1</td>\n",
       "      <td>debt_consolidation</td>\n",
       "      <td>0.1357</td>\n",
       "      <td>366.86</td>\n",
       "      <td>10.373491</td>\n",
       "      <td>11.63</td>\n",
       "      <td>682</td>\n",
       "      <td>4710.000000</td>\n",
       "      <td>3511</td>\n",
       "      <td>25.6</td>\n",
       "      <td>1</td>\n",
       "      <td>0</td>\n",
       "    </tr>\n",
       "    <tr>\n",
       "      <th>3</th>\n",
       "      <td>1</td>\n",
       "      <td>debt_consolidation</td>\n",
       "      <td>0.1008</td>\n",
       "      <td>162.34</td>\n",
       "      <td>11.350407</td>\n",
       "      <td>8.10</td>\n",
       "      <td>712</td>\n",
       "      <td>2699.958333</td>\n",
       "      <td>33667</td>\n",
       "      <td>73.2</td>\n",
       "      <td>1</td>\n",
       "      <td>0</td>\n",
       "    </tr>\n",
       "    <tr>\n",
       "      <th>4</th>\n",
       "      <td>1</td>\n",
       "      <td>credit_card</td>\n",
       "      <td>0.1426</td>\n",
       "      <td>102.92</td>\n",
       "      <td>11.299732</td>\n",
       "      <td>14.97</td>\n",
       "      <td>667</td>\n",
       "      <td>4066.000000</td>\n",
       "      <td>4740</td>\n",
       "      <td>39.5</td>\n",
       "      <td>0</td>\n",
       "      <td>0</td>\n",
       "    </tr>\n",
       "  </tbody>\n",
       "</table>\n",
       "</div>"
      ],
      "text/plain": [
       "   credit.policy             purpose  int.rate  installment  log.annual.inc  \\\n",
       "0              1  debt_consolidation    0.1189       829.10       11.350407   \n",
       "1              1         credit_card    0.1071       228.22       11.082143   \n",
       "2              1  debt_consolidation    0.1357       366.86       10.373491   \n",
       "3              1  debt_consolidation    0.1008       162.34       11.350407   \n",
       "4              1         credit_card    0.1426       102.92       11.299732   \n",
       "\n",
       "     dti  fico  days.with.cr.line  revol.bal  revol.util  inq.last.6mths  \\\n",
       "0  19.48   737        5639.958333      28854        52.1               0   \n",
       "1  14.29   707        2760.000000      33623        76.7               0   \n",
       "2  11.63   682        4710.000000       3511        25.6               1   \n",
       "3   8.10   712        2699.958333      33667        73.2               1   \n",
       "4  14.97   667        4066.000000       4740        39.5               0   \n",
       "\n",
       "   not.fully.paid  \n",
       "0               0  \n",
       "1               0  \n",
       "2               0  \n",
       "3               0  \n",
       "4               0  "
      ]
     },
     "execution_count": 2,
     "metadata": {},
     "output_type": "execute_result"
    }
   ],
   "source": [
    "# Please don't alter this part. \n",
    "df = pd.read_csv(\"loan_data.csv\")\n",
    "df.drop(columns={\"delinq.2yrs\", \"pub.rec\"}, inplace=True)\n",
    "df.head()"
   ]
  },
  {
   "cell_type": "markdown",
   "metadata": {},
   "source": [
    "### Visualize/Explore Data - If You Want, You Do You"
   ]
  },
  {
   "cell_type": "code",
   "execution_count": 10,
   "metadata": {},
   "outputs": [
    {
     "data": {
      "text/html": [
       "<div>\n",
       "<style scoped>\n",
       "    .dataframe tbody tr th:only-of-type {\n",
       "        vertical-align: middle;\n",
       "    }\n",
       "\n",
       "    .dataframe tbody tr th {\n",
       "        vertical-align: top;\n",
       "    }\n",
       "\n",
       "    .dataframe thead th {\n",
       "        text-align: right;\n",
       "    }\n",
       "</style>\n",
       "<table border=\"1\" class=\"dataframe\">\n",
       "  <thead>\n",
       "    <tr style=\"text-align: right;\">\n",
       "      <th></th>\n",
       "      <th>credit.policy</th>\n",
       "      <th>int.rate</th>\n",
       "      <th>installment</th>\n",
       "      <th>log.annual.inc</th>\n",
       "      <th>dti</th>\n",
       "      <th>fico</th>\n",
       "      <th>days.with.cr.line</th>\n",
       "      <th>revol.bal</th>\n",
       "      <th>revol.util</th>\n",
       "      <th>inq.last.6mths</th>\n",
       "      <th>not.fully.paid</th>\n",
       "    </tr>\n",
       "  </thead>\n",
       "  <tbody>\n",
       "    <tr>\n",
       "      <th>count</th>\n",
       "      <td>9578.000000</td>\n",
       "      <td>9578.000000</td>\n",
       "      <td>9578.000000</td>\n",
       "      <td>9578.000000</td>\n",
       "      <td>9578.000000</td>\n",
       "      <td>9578.000000</td>\n",
       "      <td>9578.000000</td>\n",
       "      <td>9.578000e+03</td>\n",
       "      <td>9578.000000</td>\n",
       "      <td>9578.000000</td>\n",
       "      <td>9578.000000</td>\n",
       "    </tr>\n",
       "    <tr>\n",
       "      <th>mean</th>\n",
       "      <td>0.804970</td>\n",
       "      <td>0.122640</td>\n",
       "      <td>319.089413</td>\n",
       "      <td>10.932117</td>\n",
       "      <td>12.606679</td>\n",
       "      <td>710.846314</td>\n",
       "      <td>4560.767197</td>\n",
       "      <td>1.691396e+04</td>\n",
       "      <td>46.799236</td>\n",
       "      <td>1.577469</td>\n",
       "      <td>0.160054</td>\n",
       "    </tr>\n",
       "    <tr>\n",
       "      <th>std</th>\n",
       "      <td>0.396245</td>\n",
       "      <td>0.026847</td>\n",
       "      <td>207.071301</td>\n",
       "      <td>0.614813</td>\n",
       "      <td>6.883970</td>\n",
       "      <td>37.970537</td>\n",
       "      <td>2496.930377</td>\n",
       "      <td>3.375619e+04</td>\n",
       "      <td>29.014417</td>\n",
       "      <td>2.200245</td>\n",
       "      <td>0.366676</td>\n",
       "    </tr>\n",
       "    <tr>\n",
       "      <th>min</th>\n",
       "      <td>0.000000</td>\n",
       "      <td>0.060000</td>\n",
       "      <td>15.670000</td>\n",
       "      <td>7.547502</td>\n",
       "      <td>0.000000</td>\n",
       "      <td>612.000000</td>\n",
       "      <td>178.958333</td>\n",
       "      <td>0.000000e+00</td>\n",
       "      <td>0.000000</td>\n",
       "      <td>0.000000</td>\n",
       "      <td>0.000000</td>\n",
       "    </tr>\n",
       "    <tr>\n",
       "      <th>25%</th>\n",
       "      <td>1.000000</td>\n",
       "      <td>0.103900</td>\n",
       "      <td>163.770000</td>\n",
       "      <td>10.558414</td>\n",
       "      <td>7.212500</td>\n",
       "      <td>682.000000</td>\n",
       "      <td>2820.000000</td>\n",
       "      <td>3.187000e+03</td>\n",
       "      <td>22.600000</td>\n",
       "      <td>0.000000</td>\n",
       "      <td>0.000000</td>\n",
       "    </tr>\n",
       "    <tr>\n",
       "      <th>50%</th>\n",
       "      <td>1.000000</td>\n",
       "      <td>0.122100</td>\n",
       "      <td>268.950000</td>\n",
       "      <td>10.928884</td>\n",
       "      <td>12.665000</td>\n",
       "      <td>707.000000</td>\n",
       "      <td>4139.958333</td>\n",
       "      <td>8.596000e+03</td>\n",
       "      <td>46.300000</td>\n",
       "      <td>1.000000</td>\n",
       "      <td>0.000000</td>\n",
       "    </tr>\n",
       "    <tr>\n",
       "      <th>75%</th>\n",
       "      <td>1.000000</td>\n",
       "      <td>0.140700</td>\n",
       "      <td>432.762500</td>\n",
       "      <td>11.291293</td>\n",
       "      <td>17.950000</td>\n",
       "      <td>737.000000</td>\n",
       "      <td>5730.000000</td>\n",
       "      <td>1.824950e+04</td>\n",
       "      <td>70.900000</td>\n",
       "      <td>2.000000</td>\n",
       "      <td>0.000000</td>\n",
       "    </tr>\n",
       "    <tr>\n",
       "      <th>max</th>\n",
       "      <td>1.000000</td>\n",
       "      <td>0.216400</td>\n",
       "      <td>940.140000</td>\n",
       "      <td>14.528354</td>\n",
       "      <td>29.960000</td>\n",
       "      <td>827.000000</td>\n",
       "      <td>17639.958330</td>\n",
       "      <td>1.207359e+06</td>\n",
       "      <td>119.000000</td>\n",
       "      <td>33.000000</td>\n",
       "      <td>1.000000</td>\n",
       "    </tr>\n",
       "  </tbody>\n",
       "</table>\n",
       "</div>"
      ],
      "text/plain": [
       "       credit.policy     int.rate  installment  log.annual.inc          dti  \\\n",
       "count    9578.000000  9578.000000  9578.000000     9578.000000  9578.000000   \n",
       "mean        0.804970     0.122640   319.089413       10.932117    12.606679   \n",
       "std         0.396245     0.026847   207.071301        0.614813     6.883970   \n",
       "min         0.000000     0.060000    15.670000        7.547502     0.000000   \n",
       "25%         1.000000     0.103900   163.770000       10.558414     7.212500   \n",
       "50%         1.000000     0.122100   268.950000       10.928884    12.665000   \n",
       "75%         1.000000     0.140700   432.762500       11.291293    17.950000   \n",
       "max         1.000000     0.216400   940.140000       14.528354    29.960000   \n",
       "\n",
       "              fico  days.with.cr.line     revol.bal   revol.util  \\\n",
       "count  9578.000000        9578.000000  9.578000e+03  9578.000000   \n",
       "mean    710.846314        4560.767197  1.691396e+04    46.799236   \n",
       "std      37.970537        2496.930377  3.375619e+04    29.014417   \n",
       "min     612.000000         178.958333  0.000000e+00     0.000000   \n",
       "25%     682.000000        2820.000000  3.187000e+03    22.600000   \n",
       "50%     707.000000        4139.958333  8.596000e+03    46.300000   \n",
       "75%     737.000000        5730.000000  1.824950e+04    70.900000   \n",
       "max     827.000000       17639.958330  1.207359e+06   119.000000   \n",
       "\n",
       "       inq.last.6mths  not.fully.paid  \n",
       "count     9578.000000     9578.000000  \n",
       "mean         1.577469        0.160054  \n",
       "std          2.200245        0.366676  \n",
       "min          0.000000        0.000000  \n",
       "25%          0.000000        0.000000  \n",
       "50%          1.000000        0.000000  \n",
       "75%          2.000000        0.000000  \n",
       "max         33.000000        1.000000  "
      ]
     },
     "execution_count": 10,
     "metadata": {},
     "output_type": "execute_result"
    }
   ],
   "source": [
    "df.describe()"
   ]
  },
  {
   "cell_type": "code",
   "execution_count": 15,
   "metadata": {},
   "outputs": [
    {
     "data": {
      "text/plain": [
       "1    7710\n",
       "0    1868\n",
       "Name: credit.policy, dtype: int64"
      ]
     },
     "execution_count": 15,
     "metadata": {},
     "output_type": "execute_result"
    }
   ],
   "source": [
    "df['credit.policy'].value_counts()"
   ]
  },
  {
   "cell_type": "code",
   "execution_count": 16,
   "metadata": {},
   "outputs": [],
   "source": [
    "n = df[df[\"credit.policy\"]==0]\n",
    "p = df[df[\"credit.policy\"]==1]\n",
    "n = n[\"fico\"]\n",
    "p = p[\"fico\"]"
   ]
  },
  {
   "cell_type": "code",
   "execution_count": 17,
   "metadata": {},
   "outputs": [
    {
     "data": {
      "text/plain": [
       "(683.978051391863, 717.3560311284047, 1868, 7710)"
      ]
     },
     "execution_count": 17,
     "metadata": {},
     "output_type": "execute_result"
    }
   ],
   "source": [
    "nMean, pMean, nCount, pCount = n.mean(), p.mean(), n.count(), p.count()\n",
    "nMean, pMean, nCount, pCount"
   ]
  },
  {
   "cell_type": "code",
   "execution_count": 18,
   "metadata": {},
   "outputs": [
    {
     "data": {
      "text/plain": [
       "2.6100416830751396e-271"
      ]
     },
     "execution_count": 18,
     "metadata": {},
     "output_type": "execute_result"
    }
   ],
   "source": [
    "#Scipy ttest:\n",
    "stat, pval = ss.ttest_ind(n, p)\n",
    "pval"
   ]
  },
  {
   "cell_type": "markdown",
   "metadata": {},
   "source": [
    "## Solutions"
   ]
  },
  {
   "cell_type": "code",
   "execution_count": 19,
   "metadata": {},
   "outputs": [
    {
     "data": {
      "text/plain": [
       "<AxesSubplot: xlabel='credit.policy', ylabel='fico'>"
      ]
     },
     "execution_count": 19,
     "metadata": {},
     "output_type": "execute_result"
    },
    {
     "data": {
      "image/png": "[encoded data removed]",
      "text/plain": [
       "<Figure size 1500x500 with 1 Axes>"
      ]
     },
     "metadata": {},
     "output_type": "display_data"
    }
   ],
   "source": [
    "#Make a boxplot to demonstrate. \n",
    "sns.boxplot(data=df, x=\"credit.policy\", y=\"fico\")"
   ]
  },
  {
   "cell_type": "code",
   "execution_count": null,
   "metadata": {},
   "outputs": [],
   "source": [
    "#Make a boxplot to demonstrate. \n",
    "sns.boxplot(data=df, x=\"credit.policy\", y=\"fico\")"
   ]
  },
  {
   "cell_type": "code",
   "execution_count": 21,
   "metadata": {},
   "outputs": [
    {
     "data": {
      "text/plain": [
       "2.2586739173890243e-36"
      ]
     },
     "execution_count": 21,
     "metadata": {},
     "output_type": "execute_result"
    }
   ],
   "source": [
    "#First, test for vars being equal-ish\n",
    "varStat, varP = ss.levene(df['fico'][df['credit.policy'] == 0],\n",
    "               df['fico'][df['credit.policy'] == 1],\n",
    "               df['fico'][df['not.fully.paid'] == 0],\n",
    "               df['fico'][df['not.fully.paid'] == 1])\n",
    "varP"
   ]
  },
  {
   "cell_type": "code",
   "execution_count": 22,
   "metadata": {},
   "outputs": [],
   "source": [
    "n2 = df[df[\"credit.policy\"]==0]\n",
    "p2 = df[df[\"credit.policy\"]==1]\n",
    "n2 = n2[\"log.annual.inc\"]\n",
    "p2 = p2[\"log.annual.inc\"]"
   ]
  },
  {
   "cell_type": "code",
   "execution_count": 24,
   "metadata": {},
   "outputs": [
    {
     "data": {
      "text/plain": [
       "(10.888519880012797, 10.942680001295294, 1868, 7710)"
      ]
     },
     "execution_count": 24,
     "metadata": {},
     "output_type": "execute_result"
    }
   ],
   "source": [
    "n2Mean, p2Mean, n2Count, p2Count = n2.mean(), p2.mean(), n2.count(), p2.count()\n",
    "n2Mean, p2Mean, n2Count, p2Count"
   ]
  },
  {
   "cell_type": "code",
   "execution_count": 23,
   "metadata": {},
   "outputs": [
    {
     "data": {
      "text/plain": [
       "0.0006337324172012597"
      ]
     },
     "execution_count": 23,
     "metadata": {},
     "output_type": "execute_result"
    }
   ],
   "source": [
    "stat, pval = ss.ttest_ind(n2, p2)\n",
    "pval"
   ]
  },
  {
   "cell_type": "code",
   "execution_count": 25,
   "metadata": {},
   "outputs": [
    {
     "data": {
      "text/plain": [
       "(1.0, -0.08813984185782714)"
      ]
     },
     "execution_count": 25,
     "metadata": {},
     "output_type": "execute_result"
    }
   ],
   "source": [
    "#Statsmodels calculation of power. \n",
    "from statsmodels.stats.power import TTestPower\n",
    "powerTest = TTestPower()\n",
    "ces = thinkstats2.CohenEffectSize(n2, p2)\n",
    "alpha = .05\n",
    "nobs = n2Count + p2Count\n",
    "\n",
    "pow = powerTest.power(effect_size=ces, nobs=nobs, alpha=alpha)\n",
    "pow, ces"
   ]
  },
  {
   "cell_type": "code",
   "execution_count": 28,
   "metadata": {},
   "outputs": [
    {
     "data": {
      "text/plain": [
       "1157.6455504967862"
      ]
     },
     "execution_count": 28,
     "metadata": {},
     "output_type": "execute_result"
    }
   ],
   "source": [
    "n = powerTest.solve_power(ces, power=.85, nobs=None, alpha=alpha)\n",
    "n"
   ]
  },
  {
   "cell_type": "code",
   "execution_count": 30,
   "metadata": {},
   "outputs": [
    {
     "data": {
      "text/plain": [
       "359125655810.6448"
      ]
     },
     "execution_count": 30,
     "metadata": {},
     "output_type": "execute_result"
    }
   ],
   "source": [
    "income = np.power(10, df['log.annual.inc']) # what's the data look like before log10\n",
    "income.mean()"
   ]
  },
  {
   "cell_type": "code",
   "execution_count": 35,
   "metadata": {},
   "outputs": [
    {
     "data": {
      "text/plain": [
       "10.932117137800155"
      ]
     },
     "execution_count": 35,
     "metadata": {},
     "output_type": "execute_result"
    }
   ],
   "source": [
    "dd= df['log.annual.inc'].mean()\n",
    "dd"
   ]
  },
  {
   "cell_type": "code",
   "execution_count": 42,
   "metadata": {},
   "outputs": [],
   "source": [
    "df['log_return'] = (10, df['log.annual.inc'])"
   ]
  },
  {
   "cell_type": "code",
   "execution_count": 49,
   "metadata": {},
   "outputs": [],
   "source": [
    "df['income'] = np.exp(df['log.annual.inc'])"
   ]
  },
  {
   "cell_type": "code",
   "execution_count": 62,
   "metadata": {},
   "outputs": [
    {
     "data": {
      "text/html": [
       "<div>\n",
       "<style scoped>\n",
       "    .dataframe tbody tr th:only-of-type {\n",
       "        vertical-align: middle;\n",
       "    }\n",
       "\n",
       "    .dataframe tbody tr th {\n",
       "        vertical-align: top;\n",
       "    }\n",
       "\n",
       "    .dataframe thead th {\n",
       "        text-align: right;\n",
       "    }\n",
       "</style>\n",
       "<table border=\"1\" class=\"dataframe\">\n",
       "  <thead>\n",
       "    <tr style=\"text-align: right;\">\n",
       "      <th></th>\n",
       "      <th>credit.policy</th>\n",
       "      <th>purpose</th>\n",
       "      <th>int.rate</th>\n",
       "      <th>installment</th>\n",
       "      <th>log.annual.inc</th>\n",
       "      <th>dti</th>\n",
       "      <th>fico</th>\n",
       "      <th>days.with.cr.line</th>\n",
       "      <th>revol.bal</th>\n",
       "      <th>revol.util</th>\n",
       "      <th>inq.last.6mths</th>\n",
       "      <th>not.fully.paid</th>\n",
       "      <th>log_return</th>\n",
       "      <th>income</th>\n",
       "    </tr>\n",
       "  </thead>\n",
       "  <tbody>\n",
       "    <tr>\n",
       "      <th>9548</th>\n",
       "      <td>0</td>\n",
       "      <td>home_improvement</td>\n",
       "      <td>0.1607</td>\n",
       "      <td>87.99</td>\n",
       "      <td>10.778956</td>\n",
       "      <td>14.20</td>\n",
       "      <td>667</td>\n",
       "      <td>4080.000000</td>\n",
       "      <td>1530</td>\n",
       "      <td>36.4</td>\n",
       "      <td>7</td>\n",
       "      <td>1</td>\n",
       "      <td>6.011132e+10</td>\n",
       "      <td>48000.000005</td>\n",
       "    </tr>\n",
       "    <tr>\n",
       "      <th>9549</th>\n",
       "      <td>0</td>\n",
       "      <td>home_improvement</td>\n",
       "      <td>0.2164</td>\n",
       "      <td>729.70</td>\n",
       "      <td>11.877569</td>\n",
       "      <td>8.63</td>\n",
       "      <td>667</td>\n",
       "      <td>8280.041667</td>\n",
       "      <td>55442</td>\n",
       "      <td>66.9</td>\n",
       "      <td>9</td>\n",
       "      <td>1</td>\n",
       "      <td>7.543425e+11</td>\n",
       "      <td>144000.000208</td>\n",
       "    </tr>\n",
       "    <tr>\n",
       "      <th>9550</th>\n",
       "      <td>0</td>\n",
       "      <td>all_other</td>\n",
       "      <td>0.1459</td>\n",
       "      <td>137.86</td>\n",
       "      <td>10.085809</td>\n",
       "      <td>1.15</td>\n",
       "      <td>732</td>\n",
       "      <td>1230.041667</td>\n",
       "      <td>972</td>\n",
       "      <td>11.3</td>\n",
       "      <td>5</td>\n",
       "      <td>0</td>\n",
       "      <td>1.218454e+10</td>\n",
       "      <td>24000.000016</td>\n",
       "    </tr>\n",
       "    <tr>\n",
       "      <th>9551</th>\n",
       "      <td>0</td>\n",
       "      <td>home_improvement</td>\n",
       "      <td>0.1348</td>\n",
       "      <td>508.87</td>\n",
       "      <td>11.736069</td>\n",
       "      <td>16.85</td>\n",
       "      <td>707</td>\n",
       "      <td>7440.041667</td>\n",
       "      <td>206877</td>\n",
       "      <td>92.5</td>\n",
       "      <td>1</td>\n",
       "      <td>1</td>\n",
       "      <td>5.445892e+11</td>\n",
       "      <td>125000.000464</td>\n",
       "    </tr>\n",
       "    <tr>\n",
       "      <th>9552</th>\n",
       "      <td>0</td>\n",
       "      <td>debt_consolidation</td>\n",
       "      <td>0.1311</td>\n",
       "      <td>337.45</td>\n",
       "      <td>10.691945</td>\n",
       "      <td>23.62</td>\n",
       "      <td>702</td>\n",
       "      <td>3780.041667</td>\n",
       "      <td>6255</td>\n",
       "      <td>56.9</td>\n",
       "      <td>5</td>\n",
       "      <td>0</td>\n",
       "      <td>4.919771e+10</td>\n",
       "      <td>43999.999872</td>\n",
       "    </tr>\n",
       "    <tr>\n",
       "      <th>9553</th>\n",
       "      <td>0</td>\n",
       "      <td>debt_consolidation</td>\n",
       "      <td>0.1385</td>\n",
       "      <td>545.67</td>\n",
       "      <td>11.775290</td>\n",
       "      <td>10.80</td>\n",
       "      <td>697</td>\n",
       "      <td>4110.000000</td>\n",
       "      <td>197716</td>\n",
       "      <td>74.9</td>\n",
       "      <td>4</td>\n",
       "      <td>0</td>\n",
       "      <td>5.960597e+11</td>\n",
       "      <td>130000.000073</td>\n",
       "    </tr>\n",
       "    <tr>\n",
       "      <th>9554</th>\n",
       "      <td>0</td>\n",
       "      <td>small_business</td>\n",
       "      <td>0.1533</td>\n",
       "      <td>870.71</td>\n",
       "      <td>11.842229</td>\n",
       "      <td>16.16</td>\n",
       "      <td>707</td>\n",
       "      <td>4230.041667</td>\n",
       "      <td>56909</td>\n",
       "      <td>49.8</td>\n",
       "      <td>5</td>\n",
       "      <td>0</td>\n",
       "      <td>6.953912e+11</td>\n",
       "      <td>138999.999706</td>\n",
       "    </tr>\n",
       "    <tr>\n",
       "      <th>9555</th>\n",
       "      <td>0</td>\n",
       "      <td>home_improvement</td>\n",
       "      <td>0.1311</td>\n",
       "      <td>674.90</td>\n",
       "      <td>12.292250</td>\n",
       "      <td>9.94</td>\n",
       "      <td>717</td>\n",
       "      <td>5730.041667</td>\n",
       "      <td>39576</td>\n",
       "      <td>27.7</td>\n",
       "      <td>5</td>\n",
       "      <td>1</td>\n",
       "      <td>1.959974e+12</td>\n",
       "      <td>217999.999614</td>\n",
       "    </tr>\n",
       "    <tr>\n",
       "      <th>9556</th>\n",
       "      <td>0</td>\n",
       "      <td>debt_consolidation</td>\n",
       "      <td>0.1385</td>\n",
       "      <td>136.42</td>\n",
       "      <td>11.002100</td>\n",
       "      <td>18.18</td>\n",
       "      <td>677</td>\n",
       "      <td>3423.041667</td>\n",
       "      <td>15301</td>\n",
       "      <td>85.0</td>\n",
       "      <td>4</td>\n",
       "      <td>0</td>\n",
       "      <td>1.004847e+11</td>\n",
       "      <td>59999.999928</td>\n",
       "    </tr>\n",
       "    <tr>\n",
       "      <th>9557</th>\n",
       "      <td>0</td>\n",
       "      <td>credit_card</td>\n",
       "      <td>0.1025</td>\n",
       "      <td>466.35</td>\n",
       "      <td>12.206073</td>\n",
       "      <td>13.97</td>\n",
       "      <td>722</td>\n",
       "      <td>6120.041667</td>\n",
       "      <td>338935</td>\n",
       "      <td>78.3</td>\n",
       "      <td>2</td>\n",
       "      <td>0</td>\n",
       "      <td>1.607210e+12</td>\n",
       "      <td>200000.000894</td>\n",
       "    </tr>\n",
       "    <tr>\n",
       "      <th>9558</th>\n",
       "      <td>0</td>\n",
       "      <td>debt_consolidation</td>\n",
       "      <td>0.1533</td>\n",
       "      <td>696.57</td>\n",
       "      <td>11.805595</td>\n",
       "      <td>17.21</td>\n",
       "      <td>682</td>\n",
       "      <td>2790.041667</td>\n",
       "      <td>38578</td>\n",
       "      <td>86.9</td>\n",
       "      <td>4</td>\n",
       "      <td>0</td>\n",
       "      <td>6.391386e+11</td>\n",
       "      <td>134000.000143</td>\n",
       "    </tr>\n",
       "    <tr>\n",
       "      <th>9559</th>\n",
       "      <td>0</td>\n",
       "      <td>credit_card</td>\n",
       "      <td>0.1273</td>\n",
       "      <td>688.11</td>\n",
       "      <td>11.314475</td>\n",
       "      <td>21.13</td>\n",
       "      <td>732</td>\n",
       "      <td>5881.000000</td>\n",
       "      <td>35227</td>\n",
       "      <td>54.3</td>\n",
       "      <td>5</td>\n",
       "      <td>0</td>\n",
       "      <td>2.062883e+11</td>\n",
       "      <td>82000.000308</td>\n",
       "    </tr>\n",
       "    <tr>\n",
       "      <th>9560</th>\n",
       "      <td>0</td>\n",
       "      <td>all_other</td>\n",
       "      <td>0.1867</td>\n",
       "      <td>547.36</td>\n",
       "      <td>11.407565</td>\n",
       "      <td>15.76</td>\n",
       "      <td>667</td>\n",
       "      <td>10050.041670</td>\n",
       "      <td>13255</td>\n",
       "      <td>88.4</td>\n",
       "      <td>7</td>\n",
       "      <td>0</td>\n",
       "      <td>2.556024e+11</td>\n",
       "      <td>90000.000062</td>\n",
       "    </tr>\n",
       "    <tr>\n",
       "      <th>9561</th>\n",
       "      <td>0</td>\n",
       "      <td>all_other</td>\n",
       "      <td>0.0788</td>\n",
       "      <td>115.74</td>\n",
       "      <td>10.999095</td>\n",
       "      <td>10.17</td>\n",
       "      <td>722</td>\n",
       "      <td>4410.000000</td>\n",
       "      <td>11586</td>\n",
       "      <td>61.6</td>\n",
       "      <td>4</td>\n",
       "      <td>0</td>\n",
       "      <td>9.979191e+10</td>\n",
       "      <td>59819.999869</td>\n",
       "    </tr>\n",
       "    <tr>\n",
       "      <th>9562</th>\n",
       "      <td>0</td>\n",
       "      <td>debt_consolidation</td>\n",
       "      <td>0.1348</td>\n",
       "      <td>508.87</td>\n",
       "      <td>10.933107</td>\n",
       "      <td>17.76</td>\n",
       "      <td>717</td>\n",
       "      <td>3870.041667</td>\n",
       "      <td>8760</td>\n",
       "      <td>28.2</td>\n",
       "      <td>6</td>\n",
       "      <td>0</td>\n",
       "      <td>8.572490e+10</td>\n",
       "      <td>56000.000016</td>\n",
       "    </tr>\n",
       "    <tr>\n",
       "      <th>9563</th>\n",
       "      <td>0</td>\n",
       "      <td>debt_consolidation</td>\n",
       "      <td>0.1099</td>\n",
       "      <td>556.50</td>\n",
       "      <td>11.225243</td>\n",
       "      <td>17.84</td>\n",
       "      <td>727</td>\n",
       "      <td>6840.041667</td>\n",
       "      <td>18753</td>\n",
       "      <td>29.0</td>\n",
       "      <td>4</td>\n",
       "      <td>1</td>\n",
       "      <td>1.679745e+11</td>\n",
       "      <td>74999.999811</td>\n",
       "    </tr>\n",
       "    <tr>\n",
       "      <th>9564</th>\n",
       "      <td>0</td>\n",
       "      <td>all_other</td>\n",
       "      <td>0.1385</td>\n",
       "      <td>511.56</td>\n",
       "      <td>12.323856</td>\n",
       "      <td>12.33</td>\n",
       "      <td>687</td>\n",
       "      <td>6420.041667</td>\n",
       "      <td>385489</td>\n",
       "      <td>51.2</td>\n",
       "      <td>4</td>\n",
       "      <td>0</td>\n",
       "      <td>2.107928e+12</td>\n",
       "      <td>224999.999733</td>\n",
       "    </tr>\n",
       "    <tr>\n",
       "      <th>9565</th>\n",
       "      <td>0</td>\n",
       "      <td>all_other</td>\n",
       "      <td>0.1459</td>\n",
       "      <td>396.35</td>\n",
       "      <td>10.308953</td>\n",
       "      <td>21.04</td>\n",
       "      <td>697</td>\n",
       "      <td>3390.000000</td>\n",
       "      <td>26117</td>\n",
       "      <td>78.4</td>\n",
       "      <td>6</td>\n",
       "      <td>1</td>\n",
       "      <td>2.036820e+10</td>\n",
       "      <td>29999.999981</td>\n",
       "    </tr>\n",
       "    <tr>\n",
       "      <th>9566</th>\n",
       "      <td>0</td>\n",
       "      <td>all_other</td>\n",
       "      <td>0.2164</td>\n",
       "      <td>551.08</td>\n",
       "      <td>11.002100</td>\n",
       "      <td>24.06</td>\n",
       "      <td>662</td>\n",
       "      <td>1800.000000</td>\n",
       "      <td>16441</td>\n",
       "      <td>49.8</td>\n",
       "      <td>9</td>\n",
       "      <td>1</td>\n",
       "      <td>1.004847e+11</td>\n",
       "      <td>59999.999928</td>\n",
       "    </tr>\n",
       "    <tr>\n",
       "      <th>9567</th>\n",
       "      <td>0</td>\n",
       "      <td>all_other</td>\n",
       "      <td>0.1311</td>\n",
       "      <td>101.24</td>\n",
       "      <td>10.968198</td>\n",
       "      <td>8.23</td>\n",
       "      <td>687</td>\n",
       "      <td>2790.041667</td>\n",
       "      <td>1514</td>\n",
       "      <td>13.8</td>\n",
       "      <td>5</td>\n",
       "      <td>0</td>\n",
       "      <td>9.293906e+10</td>\n",
       "      <td>58000.000027</td>\n",
       "    </tr>\n",
       "    <tr>\n",
       "      <th>9568</th>\n",
       "      <td>0</td>\n",
       "      <td>all_other</td>\n",
       "      <td>0.1979</td>\n",
       "      <td>37.06</td>\n",
       "      <td>10.645425</td>\n",
       "      <td>22.17</td>\n",
       "      <td>667</td>\n",
       "      <td>5916.000000</td>\n",
       "      <td>28854</td>\n",
       "      <td>59.8</td>\n",
       "      <td>6</td>\n",
       "      <td>0</td>\n",
       "      <td>4.420027e+10</td>\n",
       "      <td>42000.000115</td>\n",
       "    </tr>\n",
       "    <tr>\n",
       "      <th>9569</th>\n",
       "      <td>0</td>\n",
       "      <td>home_improvement</td>\n",
       "      <td>0.1426</td>\n",
       "      <td>823.34</td>\n",
       "      <td>12.429216</td>\n",
       "      <td>3.62</td>\n",
       "      <td>722</td>\n",
       "      <td>3239.958333</td>\n",
       "      <td>33575</td>\n",
       "      <td>83.9</td>\n",
       "      <td>5</td>\n",
       "      <td>1</td>\n",
       "      <td>2.686682e+12</td>\n",
       "      <td>250000.000789</td>\n",
       "    </tr>\n",
       "    <tr>\n",
       "      <th>9570</th>\n",
       "      <td>0</td>\n",
       "      <td>all_other</td>\n",
       "      <td>0.1671</td>\n",
       "      <td>113.63</td>\n",
       "      <td>10.645425</td>\n",
       "      <td>28.06</td>\n",
       "      <td>672</td>\n",
       "      <td>3210.041667</td>\n",
       "      <td>25759</td>\n",
       "      <td>63.8</td>\n",
       "      <td>5</td>\n",
       "      <td>1</td>\n",
       "      <td>4.420027e+10</td>\n",
       "      <td>42000.000115</td>\n",
       "    </tr>\n",
       "    <tr>\n",
       "      <th>9571</th>\n",
       "      <td>0</td>\n",
       "      <td>all_other</td>\n",
       "      <td>0.1568</td>\n",
       "      <td>161.01</td>\n",
       "      <td>11.225243</td>\n",
       "      <td>8.00</td>\n",
       "      <td>677</td>\n",
       "      <td>7230.000000</td>\n",
       "      <td>6909</td>\n",
       "      <td>29.2</td>\n",
       "      <td>4</td>\n",
       "      <td>1</td>\n",
       "      <td>1.679745e+11</td>\n",
       "      <td>74999.999811</td>\n",
       "    </tr>\n",
       "    <tr>\n",
       "      <th>9572</th>\n",
       "      <td>0</td>\n",
       "      <td>debt_consolidation</td>\n",
       "      <td>0.1565</td>\n",
       "      <td>69.98</td>\n",
       "      <td>10.110472</td>\n",
       "      <td>7.02</td>\n",
       "      <td>662</td>\n",
       "      <td>8190.041667</td>\n",
       "      <td>2999</td>\n",
       "      <td>39.5</td>\n",
       "      <td>6</td>\n",
       "      <td>1</td>\n",
       "      <td>1.289652e+10</td>\n",
       "      <td>24599.279921</td>\n",
       "    </tr>\n",
       "    <tr>\n",
       "      <th>9573</th>\n",
       "      <td>0</td>\n",
       "      <td>all_other</td>\n",
       "      <td>0.1461</td>\n",
       "      <td>344.76</td>\n",
       "      <td>12.180755</td>\n",
       "      <td>10.39</td>\n",
       "      <td>672</td>\n",
       "      <td>10474.000000</td>\n",
       "      <td>215372</td>\n",
       "      <td>82.1</td>\n",
       "      <td>2</td>\n",
       "      <td>1</td>\n",
       "      <td>1.516194e+12</td>\n",
       "      <td>195000.000479</td>\n",
       "    </tr>\n",
       "    <tr>\n",
       "      <th>9574</th>\n",
       "      <td>0</td>\n",
       "      <td>all_other</td>\n",
       "      <td>0.1253</td>\n",
       "      <td>257.70</td>\n",
       "      <td>11.141862</td>\n",
       "      <td>0.21</td>\n",
       "      <td>722</td>\n",
       "      <td>4380.000000</td>\n",
       "      <td>184</td>\n",
       "      <td>1.1</td>\n",
       "      <td>5</td>\n",
       "      <td>1</td>\n",
       "      <td>1.386315e+11</td>\n",
       "      <td>68999.999753</td>\n",
       "    </tr>\n",
       "    <tr>\n",
       "      <th>9575</th>\n",
       "      <td>0</td>\n",
       "      <td>debt_consolidation</td>\n",
       "      <td>0.1071</td>\n",
       "      <td>97.81</td>\n",
       "      <td>10.596635</td>\n",
       "      <td>13.09</td>\n",
       "      <td>687</td>\n",
       "      <td>3450.041667</td>\n",
       "      <td>10036</td>\n",
       "      <td>82.9</td>\n",
       "      <td>8</td>\n",
       "      <td>1</td>\n",
       "      <td>3.950342e+10</td>\n",
       "      <td>39999.999876</td>\n",
       "    </tr>\n",
       "    <tr>\n",
       "      <th>9576</th>\n",
       "      <td>0</td>\n",
       "      <td>home_improvement</td>\n",
       "      <td>0.1600</td>\n",
       "      <td>351.58</td>\n",
       "      <td>10.819778</td>\n",
       "      <td>19.18</td>\n",
       "      <td>692</td>\n",
       "      <td>1800.000000</td>\n",
       "      <td>0</td>\n",
       "      <td>3.2</td>\n",
       "      <td>5</td>\n",
       "      <td>1</td>\n",
       "      <td>6.603562e+10</td>\n",
       "      <td>49999.999779</td>\n",
       "    </tr>\n",
       "    <tr>\n",
       "      <th>9577</th>\n",
       "      <td>0</td>\n",
       "      <td>debt_consolidation</td>\n",
       "      <td>0.1392</td>\n",
       "      <td>853.43</td>\n",
       "      <td>11.264464</td>\n",
       "      <td>16.28</td>\n",
       "      <td>732</td>\n",
       "      <td>4740.000000</td>\n",
       "      <td>37879</td>\n",
       "      <td>57.0</td>\n",
       "      <td>6</td>\n",
       "      <td>1</td>\n",
       "      <td>1.838502e+11</td>\n",
       "      <td>78000.000338</td>\n",
       "    </tr>\n",
       "  </tbody>\n",
       "</table>\n",
       "</div>"
      ],
      "text/plain": [
       "      credit.policy             purpose  int.rate  installment  \\\n",
       "9548              0    home_improvement    0.1607        87.99   \n",
       "9549              0    home_improvement    0.2164       729.70   \n",
       "9550              0           all_other    0.1459       137.86   \n",
       "9551              0    home_improvement    0.1348       508.87   \n",
       "9552              0  debt_consolidation    0.1311       337.45   \n",
       "9553              0  debt_consolidation    0.1385       545.67   \n",
       "9554              0      small_business    0.1533       870.71   \n",
       "9555              0    home_improvement    0.1311       674.90   \n",
       "9556              0  debt_consolidation    0.1385       136.42   \n",
       "9557              0         credit_card    0.1025       466.35   \n",
       "9558              0  debt_consolidation    0.1533       696.57   \n",
       "9559              0         credit_card    0.1273       688.11   \n",
       "9560              0           all_other    0.1867       547.36   \n",
       "9561              0           all_other    0.0788       115.74   \n",
       "9562              0  debt_consolidation    0.1348       508.87   \n",
       "9563              0  debt_consolidation    0.1099       556.50   \n",
       "9564              0           all_other    0.1385       511.56   \n",
       "9565              0           all_other    0.1459       396.35   \n",
       "9566              0           all_other    0.2164       551.08   \n",
       "9567              0           all_other    0.1311       101.24   \n",
       "9568              0           all_other    0.1979        37.06   \n",
       "9569              0    home_improvement    0.1426       823.34   \n",
       "9570              0           all_other    0.1671       113.63   \n",
       "9571              0           all_other    0.1568       161.01   \n",
       "9572              0  debt_consolidation    0.1565        69.98   \n",
       "9573              0           all_other    0.1461       344.76   \n",
       "9574              0           all_other    0.1253       257.70   \n",
       "9575              0  debt_consolidation    0.1071        97.81   \n",
       "9576              0    home_improvement    0.1600       351.58   \n",
       "9577              0  debt_consolidation    0.1392       853.43   \n",
       "\n",
       "      log.annual.inc    dti  fico  days.with.cr.line  revol.bal  revol.util  \\\n",
       "9548       10.778956  14.20   667        4080.000000       1530        36.4   \n",
       "9549       11.877569   8.63   667        8280.041667      55442        66.9   \n",
       "9550       10.085809   1.15   732        1230.041667        972        11.3   \n",
       "9551       11.736069  16.85   707        7440.041667     206877        92.5   \n",
       "9552       10.691945  23.62   702        3780.041667       6255        56.9   \n",
       "9553       11.775290  10.80   697        4110.000000     197716        74.9   \n",
       "9554       11.842229  16.16   707        4230.041667      56909        49.8   \n",
       "9555       12.292250   9.94   717        5730.041667      39576        27.7   \n",
       "9556       11.002100  18.18   677        3423.041667      15301        85.0   \n",
       "9557       12.206073  13.97   722        6120.041667     338935        78.3   \n",
       "9558       11.805595  17.21   682        2790.041667      38578        86.9   \n",
       "9559       11.314475  21.13   732        5881.000000      35227        54.3   \n",
       "9560       11.407565  15.76   667       10050.041670      13255        88.4   \n",
       "9561       10.999095  10.17   722        4410.000000      11586        61.6   \n",
       "9562       10.933107  17.76   717        3870.041667       8760        28.2   \n",
       "9563       11.225243  17.84   727        6840.041667      18753        29.0   \n",
       "9564       12.323856  12.33   687        6420.041667     385489        51.2   \n",
       "9565       10.308953  21.04   697        3390.000000      26117        78.4   \n",
       "9566       11.002100  24.06   662        1800.000000      16441        49.8   \n",
       "9567       10.968198   8.23   687        2790.041667       1514        13.8   \n",
       "9568       10.645425  22.17   667        5916.000000      28854        59.8   \n",
       "9569       12.429216   3.62   722        3239.958333      33575        83.9   \n",
       "9570       10.645425  28.06   672        3210.041667      25759        63.8   \n",
       "9571       11.225243   8.00   677        7230.000000       6909        29.2   \n",
       "9572       10.110472   7.02   662        8190.041667       2999        39.5   \n",
       "9573       12.180755  10.39   672       10474.000000     215372        82.1   \n",
       "9574       11.141862   0.21   722        4380.000000        184         1.1   \n",
       "9575       10.596635  13.09   687        3450.041667      10036        82.9   \n",
       "9576       10.819778  19.18   692        1800.000000          0         3.2   \n",
       "9577       11.264464  16.28   732        4740.000000      37879        57.0   \n",
       "\n",
       "      inq.last.6mths  not.fully.paid    log_return         income  \n",
       "9548               7               1  6.011132e+10   48000.000005  \n",
       "9549               9               1  7.543425e+11  144000.000208  \n",
       "9550               5               0  1.218454e+10   24000.000016  \n",
       "9551               1               1  5.445892e+11  125000.000464  \n",
       "9552               5               0  4.919771e+10   43999.999872  \n",
       "9553               4               0  5.960597e+11  130000.000073  \n",
       "9554               5               0  6.953912e+11  138999.999706  \n",
       "9555               5               1  1.959974e+12  217999.999614  \n",
       "9556               4               0  1.004847e+11   59999.999928  \n",
       "9557               2               0  1.607210e+12  200000.000894  \n",
       "9558               4               0  6.391386e+11  134000.000143  \n",
       "9559               5               0  2.062883e+11   82000.000308  \n",
       "9560               7               0  2.556024e+11   90000.000062  \n",
       "9561               4               0  9.979191e+10   59819.999869  \n",
       "9562               6               0  8.572490e+10   56000.000016  \n",
       "9563               4               1  1.679745e+11   74999.999811  \n",
       "9564               4               0  2.107928e+12  224999.999733  \n",
       "9565               6               1  2.036820e+10   29999.999981  \n",
       "9566               9               1  1.004847e+11   59999.999928  \n",
       "9567               5               0  9.293906e+10   58000.000027  \n",
       "9568               6               0  4.420027e+10   42000.000115  \n",
       "9569               5               1  2.686682e+12  250000.000789  \n",
       "9570               5               1  4.420027e+10   42000.000115  \n",
       "9571               4               1  1.679745e+11   74999.999811  \n",
       "9572               6               1  1.289652e+10   24599.279921  \n",
       "9573               2               1  1.516194e+12  195000.000479  \n",
       "9574               5               1  1.386315e+11   68999.999753  \n",
       "9575               8               1  3.950342e+10   39999.999876  \n",
       "9576               5               1  6.603562e+10   49999.999779  \n",
       "9577               6               1  1.838502e+11   78000.000338  "
      ]
     },
     "execution_count": 62,
     "metadata": {},
     "output_type": "execute_result"
    }
   ],
   "source": [
    "df.tail(30)"
   ]
  },
  {
   "cell_type": "code",
   "execution_count": 51,
   "metadata": {},
   "outputs": [
    {
     "data": {
      "text/plain": [
       "68402.03071015503"
      ]
     },
     "execution_count": 51,
     "metadata": {},
     "output_type": "execute_result"
    }
   ],
   "source": [
    "df.income.mean()"
   ]
  },
  {
   "cell_type": "code",
   "execution_count": 53,
   "metadata": {},
   "outputs": [
    {
     "name": "stderr",
     "output_type": "stream",
     "text": [
      "c:\\Users\\toluw\\anaconda3\\lib\\site-packages\\seaborn\\distributions.py:2619: FutureWarning: `distplot` is a deprecated function and will be removed in a future version. Please adapt your code to use either `displot` (a figure-level function with similar flexibility) or `histplot` (an axes-level function for histograms).\n",
      "  warnings.warn(msg, FutureWarning)\n"
     ]
    },
    {
     "data": {
      "text/plain": [
       "<AxesSubplot: xlabel='income', ylabel='Density'>"
      ]
     },
     "execution_count": 53,
     "metadata": {},
     "output_type": "execute_result"
    },
    {
     "data": {
      "image/png": "[encoded data removed]",
      "text/plain": [
       "<Figure size 1500x500 with 1 Axes>"
      ]
     },
     "metadata": {},
     "output_type": "display_data"
    }
   ],
   "source": [
    "sns.distplot(df.income, color=\"blue\")\n"
   ]
  },
  {
   "cell_type": "code",
   "execution_count": 54,
   "metadata": {},
   "outputs": [
    {
     "name": "stderr",
     "output_type": "stream",
     "text": [
      "c:\\Users\\toluw\\anaconda3\\lib\\site-packages\\seaborn\\distributions.py:2619: FutureWarning: `distplot` is a deprecated function and will be removed in a future version. Please adapt your code to use either `displot` (a figure-level function with similar flexibility) or `histplot` (an axes-level function for histograms).\n",
      "  warnings.warn(msg, FutureWarning)\n"
     ]
    },
    {
     "data": {
      "text/plain": [
       "<AxesSubplot: xlabel='days.with.cr.line', ylabel='Density'>"
      ]
     },
     "execution_count": 54,
     "metadata": {},
     "output_type": "execute_result"
    },
    {
     "data": {
      "image/png": "[encoded data removed]",
      "text/plain": [
       "<Figure size 1500x500 with 1 Axes>"
      ]
     },
     "metadata": {},
     "output_type": "display_data"
    }
   ],
   "source": [
    "sns.distplot(df['days.with.cr.line'], color=\"red\")\n"
   ]
  },
  {
   "cell_type": "code",
   "execution_count": 55,
   "metadata": {},
   "outputs": [
    {
     "name": "stderr",
     "output_type": "stream",
     "text": [
      "c:\\Users\\toluw\\anaconda3\\lib\\site-packages\\seaborn\\distributions.py:2619: FutureWarning: `distplot` is a deprecated function and will be removed in a future version. Please adapt your code to use either `displot` (a figure-level function with similar flexibility) or `histplot` (an axes-level function for histograms).\n",
      "  warnings.warn(msg, FutureWarning)\n"
     ]
    },
    {
     "data": {
      "text/plain": [
       "<AxesSubplot: xlabel='fico', ylabel='Density'>"
      ]
     },
     "execution_count": 55,
     "metadata": {},
     "output_type": "execute_result"
    },
    {
     "data": {
      "image/png": "[encoded data removed]",
      "text/plain": [
       "<Figure size 1500x500 with 1 Axes>"
      ]
     },
     "metadata": {},
     "output_type": "display_data"
    }
   ],
   "source": [
    "sns.distplot(df['fico'], color=\"green\")\n"
   ]
  },
  {
   "cell_type": "code",
   "execution_count": 59,
   "metadata": {},
   "outputs": [
    {
     "data": {
      "text/plain": [
       "55763.99997288616"
      ]
     },
     "execution_count": 59,
     "metadata": {},
     "output_type": "execute_result"
    }
   ],
   "source": [
    "df.income.median()"
   ]
  },
  {
   "cell_type": "code",
   "execution_count": 58,
   "metadata": {},
   "outputs": [
    {
     "data": {
      "text/plain": [
       "68402.03071015503"
      ]
     },
     "execution_count": 58,
     "metadata": {},
     "output_type": "execute_result"
    }
   ],
   "source": [
    "df.income.mean()"
   ]
  },
  {
   "cell_type": "code",
   "execution_count": 60,
   "metadata": {},
   "outputs": [
    {
     "data": {
      "text/plain": [
       "(710.8463144706619, 707.0)"
      ]
     },
     "execution_count": 60,
     "metadata": {},
     "output_type": "execute_result"
    }
   ],
   "source": [
    "(df.fico.mean(),df.fico.median())"
   ]
  },
  {
   "cell_type": "code",
   "execution_count": 61,
   "metadata": {},
   "outputs": [
    {
     "data": {
      "text/plain": [
       "(4560.7671965292075, 4139.958333)"
      ]
     },
     "execution_count": 61,
     "metadata": {},
     "output_type": "execute_result"
    }
   ],
   "source": [
    "(df['days.with.cr.line'].mean(),df['days.with.cr.line'].median())"
   ]
  },
  {
   "cell_type": "code",
   "execution_count": 72,
   "metadata": {},
   "outputs": [],
   "source": [
    "#Remove some high VIF columns\n",
    "df_2 = df.drop(columns={\"purpose\", \"installment\", \"dti\", \"days.with.cr.line\",\"revol.bal\",\"inq.last.6mths\",\"not.fully.paid\"})"
   ]
  },
  {
   "cell_type": "code",
   "execution_count": 75,
   "metadata": {},
   "outputs": [
    {
     "data": {
      "text/html": [
       "<div>\n",
       "<style scoped>\n",
       "    .dataframe tbody tr th:only-of-type {\n",
       "        vertical-align: middle;\n",
       "    }\n",
       "\n",
       "    .dataframe tbody tr th {\n",
       "        vertical-align: top;\n",
       "    }\n",
       "\n",
       "    .dataframe thead th {\n",
       "        text-align: right;\n",
       "    }\n",
       "</style>\n",
       "<table border=\"1\" class=\"dataframe\">\n",
       "  <thead>\n",
       "    <tr style=\"text-align: right;\">\n",
       "      <th></th>\n",
       "      <th>credit.policy</th>\n",
       "      <th>int.rate</th>\n",
       "      <th>log.annual.inc</th>\n",
       "      <th>fico</th>\n",
       "      <th>revol.util</th>\n",
       "      <th>log_return</th>\n",
       "      <th>income</th>\n",
       "    </tr>\n",
       "  </thead>\n",
       "  <tbody>\n",
       "    <tr>\n",
       "      <th>0</th>\n",
       "      <td>1</td>\n",
       "      <td>0.1189</td>\n",
       "      <td>11.350407</td>\n",
       "      <td>737</td>\n",
       "      <td>52.1</td>\n",
       "      <td>2.240818e+11</td>\n",
       "      <td>85000.000385</td>\n",
       "    </tr>\n",
       "    <tr>\n",
       "      <th>1</th>\n",
       "      <td>1</td>\n",
       "      <td>0.1071</td>\n",
       "      <td>11.082143</td>\n",
       "      <td>707</td>\n",
       "      <td>76.7</td>\n",
       "      <td>1.208210e+11</td>\n",
       "      <td>65000.000073</td>\n",
       "    </tr>\n",
       "    <tr>\n",
       "      <th>2</th>\n",
       "      <td>1</td>\n",
       "      <td>0.1357</td>\n",
       "      <td>10.373491</td>\n",
       "      <td>682</td>\n",
       "      <td>25.6</td>\n",
       "      <td>2.363149e+10</td>\n",
       "      <td>31999.999943</td>\n",
       "    </tr>\n",
       "    <tr>\n",
       "      <th>3</th>\n",
       "      <td>1</td>\n",
       "      <td>0.1008</td>\n",
       "      <td>11.350407</td>\n",
       "      <td>712</td>\n",
       "      <td>73.2</td>\n",
       "      <td>2.240818e+11</td>\n",
       "      <td>85000.000385</td>\n",
       "    </tr>\n",
       "    <tr>\n",
       "      <th>4</th>\n",
       "      <td>1</td>\n",
       "      <td>0.1426</td>\n",
       "      <td>11.299732</td>\n",
       "      <td>667</td>\n",
       "      <td>39.5</td>\n",
       "      <td>1.994033e+11</td>\n",
       "      <td>80799.999636</td>\n",
       "    </tr>\n",
       "  </tbody>\n",
       "</table>\n",
       "</div>"
      ],
      "text/plain": [
       "   credit.policy  int.rate  log.annual.inc  fico  revol.util    log_return  \\\n",
       "0              1    0.1189       11.350407   737        52.1  2.240818e+11   \n",
       "1              1    0.1071       11.082143   707        76.7  1.208210e+11   \n",
       "2              1    0.1357       10.373491   682        25.6  2.363149e+10   \n",
       "3              1    0.1008       11.350407   712        73.2  2.240818e+11   \n",
       "4              1    0.1426       11.299732   667        39.5  1.994033e+11   \n",
       "\n",
       "         income  \n",
       "0  85000.000385  \n",
       "1  65000.000073  \n",
       "2  31999.999943  \n",
       "3  85000.000385  \n",
       "4  80799.999636  "
      ]
     },
     "execution_count": 75,
     "metadata": {},
     "output_type": "execute_result"
    }
   ],
   "source": [
    "df_2.head()"
   ]
  },
  {
   "cell_type": "code",
   "execution_count": null,
   "metadata": {},
   "outputs": [],
   "source": []
  },
  {
   "cell_type": "code",
   "execution_count": 76,
   "metadata": {},
   "outputs": [],
   "source": [
    "df2 = df_2.drop(columns={\"credit.policy\", \"log_return\", \"income\"})"
   ]
  },
  {
   "cell_type": "code",
   "execution_count": 77,
   "metadata": {},
   "outputs": [
    {
     "data": {
      "text/html": [
       "<div>\n",
       "<style scoped>\n",
       "    .dataframe tbody tr th:only-of-type {\n",
       "        vertical-align: middle;\n",
       "    }\n",
       "\n",
       "    .dataframe tbody tr th {\n",
       "        vertical-align: top;\n",
       "    }\n",
       "\n",
       "    .dataframe thead th {\n",
       "        text-align: right;\n",
       "    }\n",
       "</style>\n",
       "<table border=\"1\" class=\"dataframe\">\n",
       "  <thead>\n",
       "    <tr style=\"text-align: right;\">\n",
       "      <th></th>\n",
       "      <th>int.rate</th>\n",
       "      <th>log.annual.inc</th>\n",
       "      <th>fico</th>\n",
       "      <th>revol.util</th>\n",
       "    </tr>\n",
       "  </thead>\n",
       "  <tbody>\n",
       "    <tr>\n",
       "      <th>0</th>\n",
       "      <td>0.1189</td>\n",
       "      <td>11.350407</td>\n",
       "      <td>737</td>\n",
       "      <td>52.1</td>\n",
       "    </tr>\n",
       "    <tr>\n",
       "      <th>1</th>\n",
       "      <td>0.1071</td>\n",
       "      <td>11.082143</td>\n",
       "      <td>707</td>\n",
       "      <td>76.7</td>\n",
       "    </tr>\n",
       "    <tr>\n",
       "      <th>2</th>\n",
       "      <td>0.1357</td>\n",
       "      <td>10.373491</td>\n",
       "      <td>682</td>\n",
       "      <td>25.6</td>\n",
       "    </tr>\n",
       "    <tr>\n",
       "      <th>3</th>\n",
       "      <td>0.1008</td>\n",
       "      <td>11.350407</td>\n",
       "      <td>712</td>\n",
       "      <td>73.2</td>\n",
       "    </tr>\n",
       "    <tr>\n",
       "      <th>4</th>\n",
       "      <td>0.1426</td>\n",
       "      <td>11.299732</td>\n",
       "      <td>667</td>\n",
       "      <td>39.5</td>\n",
       "    </tr>\n",
       "  </tbody>\n",
       "</table>\n",
       "</div>"
      ],
      "text/plain": [
       "   int.rate  log.annual.inc  fico  revol.util\n",
       "0    0.1189       11.350407   737        52.1\n",
       "1    0.1071       11.082143   707        76.7\n",
       "2    0.1357       10.373491   682        25.6\n",
       "3    0.1008       11.350407   712        73.2\n",
       "4    0.1426       11.299732   667        39.5"
      ]
     },
     "execution_count": 77,
     "metadata": {},
     "output_type": "execute_result"
    }
   ],
   "source": [
    "df2.head()"
   ]
  },
  {
   "cell_type": "code",
   "execution_count": 78,
   "metadata": {},
   "outputs": [],
   "source": [
    "#Statsmodels.\n",
    "import statsmodels.api as sm"
   ]
  },
  {
   "cell_type": "code",
   "execution_count": 83,
   "metadata": {},
   "outputs": [
    {
     "name": "stdout",
     "output_type": "stream",
     "text": [
      "                            OLS Regression Results                            \n",
      "==============================================================================\n",
      "Dep. Variable:                   fico   R-squared:                       0.293\n",
      "Model:                            OLS   Adj. R-squared:                  0.293\n",
      "Method:                 Least Squares   F-statistic:                     3968.\n",
      "Date:                Sat, 12 Nov 2022   Prob (F-statistic):               0.00\n",
      "Time:                        21:49:16   Log-Likelihood:                -46763.\n",
      "No. Observations:                9578   AIC:                         9.353e+04\n",
      "Df Residuals:                    9576   BIC:                         9.354e+04\n",
      "Df Model:                           1                                         \n",
      "Covariance Type:            nonrobust                                         \n",
      "==============================================================================\n",
      "                 coef    std err          t      P>|t|      [0.025      0.975]\n",
      "------------------------------------------------------------------------------\n",
      "const        743.9977      0.619   1201.602      0.000     742.784     745.211\n",
      "revol.util    -0.7084      0.011    -62.996      0.000      -0.730      -0.686\n",
      "==============================================================================\n",
      "Omnibus:                       79.157   Durbin-Watson:                   1.661\n",
      "Prob(Omnibus):                  0.000   Jarque-Bera (JB):               53.668\n",
      "Skew:                          -0.038   Prob(JB):                     2.22e-12\n",
      "Kurtosis:                       2.641   Cond. No.                         105.\n",
      "==============================================================================\n",
      "\n",
      "Notes:\n",
      "[1] Standard Errors assume that the covariance matrix of the errors is correctly specified.\n"
     ]
    }
   ],
   "source": [
    "y =df[\"fico\"]\n",
    "df_3 = df[[\"revol.util\"]]\n",
    "X2 = sm.add_constant(df_3)\n",
    "est = sm.OLS(y, X2)\n",
    "est2 = est.fit()\n",
    "print(est2.summary())"
   ]
  }
 ],
 "metadata": {
  "kernelspec": {
   "display_name": "Python 3.9.13 ('base')",
   "language": "python",
   "name": "python3"
  },
  "language_info": {
   "codemirror_mode": {
    "name": "ipython",
    "version": 3
   },
   "file_extension": ".py",
   "mimetype": "text/x-python",
   "name": "python",
   "nbconvert_exporter": "python",
   "pygments_lexer": "ipython3",
   "version": "3.9.13"
  },
  "orig_nbformat": 4,
  "vscode": {
   "interpreter": {
    "hash": "5e7cbeb742f02d765fcec4b3e42c8713f0c6d06ac97c88ada4b0856650159d56"
   }
  }
 },
 "nbformat": 4,
 "nbformat_minor": 2
}
